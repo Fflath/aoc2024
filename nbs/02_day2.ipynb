{
 "cells": [
  {
   "cell_type": "code",
   "execution_count": null,
   "id": "e942ead6-398b-4c42-9d3b-bd8511568c8c",
   "metadata": {},
   "outputs": [],
   "source": [
    "%load_ext autoreload\n",
    "%autoreload 2"
   ]
  },
  {
   "cell_type": "code",
   "execution_count": null,
   "id": "304aec85-d681-47a4-a5a2-2dc27a6bb70b",
   "metadata": {},
   "outputs": [],
   "source": [
    "from aoc2024.core import *\n",
    "import copy"
   ]
  },
  {
   "cell_type": "code",
   "execution_count": null,
   "id": "5d317530-94b7-429d-ba31-75616dea5bb1",
   "metadata": {},
   "outputs": [],
   "source": [
    "with open(\"../data/d2.txt\", \"r\") as f:\n",
    "    inp = f.read()\n",
    "\n",
    "data = Parser(inp)"
   ]
  },
  {
   "cell_type": "code",
   "execution_count": null,
   "id": "0bccca3c-fc8b-4dbb-a0db-ef5db7c87a71",
   "metadata": {},
   "outputs": [],
   "source": [
    "def line():\n",
    "    return mapper(sequence([\n",
    "        many(sequence([integer(),ws_()])),nl_()]),[lambda x: [xs[0] for xs in x[0]]]) \n"
   ]
  },
  {
   "cell_type": "code",
   "execution_count": null,
   "id": "c02e8fd0-9533-41ef-b086-87cb34259a1c",
   "metadata": {},
   "outputs": [
    {
     "data": {
      "text/plain": [
       "(True,[44, 47, 48, 49, 48],)"
      ]
     },
     "execution_count": null,
     "metadata": {},
     "output_type": "execute_result"
    }
   ],
   "source": [
    "data.r()\n",
    "line()(data)"
   ]
  },
  {
   "cell_type": "code",
   "execution_count": null,
   "id": "f25dc876-096d-4bb2-aea5-2178377151bb",
   "metadata": {},
   "outputs": [],
   "source": [
    "def check_inc(ls):\n",
    "    l,r=0,1\n",
    "    while r < len(ls):\n",
    "        d = ls[r]-ls[l]\n",
    "        if (d < 1) or (d > 3): return False\n",
    "        r+=1\n",
    "        l+=1\n",
    "    return True\n",
    "    \n",
    "def check_dec(ls):\n",
    "    l,r=0,1\n",
    "    while r < len(ls):\n",
    "        d = ls[l]-ls[r]\n",
    "        if (d < 1) or (d > 3): return False\n",
    "        r+=1\n",
    "        l+=1\n",
    "    return True\n",
    "\n"
   ]
  },
  {
   "cell_type": "code",
   "execution_count": null,
   "id": "74aa85fb-5027-4da5-8d70-184f4bab4cd2",
   "metadata": {},
   "outputs": [],
   "source": [
    "def check2_inc(ls):\n",
    "    l,r=0,1\n",
    "    while r < len(ls):\n",
    "        d = ls[r]-ls[l]\n",
    "        if (d < 1) or (d > 3): \n",
    "            trash1 = copy.deepcopy(ls)\n",
    "            trash2 = copy.deepcopy(ls)\n",
    "            trash1.pop(l)\n",
    "            trash2.pop(r)\n",
    "            return check_inc(trash1) or check_dec(trash1) or check_inc(trash2) or check_dec(trash2)\n",
    "        r+=1\n",
    "        l+=1\n",
    "    return True\n",
    "    \n",
    "def check2_dec(ls):\n",
    "    l,r=0,1\n",
    "    while r < len(ls):\n",
    "        d = ls[l]-ls[r]\n",
    "        if (d < 1) or (d > 3): \n",
    "            trash1 = copy.deepcopy(ls)\n",
    "            trash2 = copy.deepcopy(ls)\n",
    "            trash1.pop(l)\n",
    "            trash2.pop(r)\n",
    "            return check_inc(trash1) or check_dec(trash1) or check_inc(trash2) or check_dec(trash2)\n",
    "        r+=1\n",
    "        l+=1\n",
    "    return True\n",
    "\n"
   ]
  },
  {
   "cell_type": "code",
   "execution_count": null,
   "id": "60520b67-fd2a-4a38-b805-ad5667d135a6",
   "metadata": {},
   "outputs": [
    {
     "data": {
      "text/plain": [
       "432"
      ]
     },
     "execution_count": null,
     "metadata": {},
     "output_type": "execute_result"
    }
   ],
   "source": [
    "data.r()\n",
    "res = many(line())(data)\n",
    "len([x for x in res.v if check_inc(x) or check_dec(x)])"
   ]
  },
  {
   "cell_type": "code",
   "execution_count": null,
   "id": "27641cad-6455-4920-b01d-54c6fc2808c1",
   "metadata": {},
   "outputs": [
    {
     "data": {
      "text/plain": [
       "488"
      ]
     },
     "execution_count": null,
     "metadata": {},
     "output_type": "execute_result"
    }
   ],
   "source": [
    "data.r()\n",
    "res = many(line())(data)\n",
    "len([x for x in res.v if check2_inc(x) or check2_dec(x)])"
   ]
  },
  {
   "cell_type": "code",
   "execution_count": null,
   "id": "2058cfce-e817-45ef-aa4a-530daa8a7fd0",
   "metadata": {},
   "outputs": [],
   "source": []
  }
 ],
 "metadata": {
  "kernelspec": {
   "display_name": "python3",
   "language": "python",
   "name": "python3"
  }
 },
 "nbformat": 4,
 "nbformat_minor": 5
}
