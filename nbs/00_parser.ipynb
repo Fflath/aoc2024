{
 "cells": [
  {
   "cell_type": "code",
   "execution_count": null,
   "id": "d6dccdcc-6448-4c7b-a692-d57c87b17b51",
   "metadata": {},
   "outputs": [],
   "source": [
    "#| default_exp core"
   ]
  },
  {
   "cell_type": "code",
   "execution_count": null,
   "id": "c5cb1152",
   "metadata": {},
   "outputs": [],
   "source": [
    "#| export\n",
    "\n",
    "class Parser:\n",
    "    def __init__(self, input):\n",
    "        self.input = input\n",
    "        self.head = 0\n",
    "        self.length = len(input)\n",
    "\n",
    "    def peek(self):\n",
    "        return self.input[self.head]\n",
    "\n",
    "    def next(self):\n",
    "        ret = self.peek()\n",
    "        self.head += 1\n",
    "        return ret\n",
    "\n",
    "    def nextn(self,n):\n",
    "        ret = self.input[self.head:self.head+n]\n",
    "        if len(ret) == n:\n",
    "            self.head+=n\n",
    "            return ret\n",
    "        raise Exception(\"not enough input\")\n",
    "            \n",
    "\n",
    "    def r(self):\n",
    "        self.head = 0\n",
    "\n",
    "    def step(self): self.head += 1\n",
    "\n",
    "    def __len__(self): return self.length\n",
    "        \n",
    "    def __repr__(self): return f\"{self.input[:self.head]}|{self.input[self.head:]}\"\n"
   ]
  },
  {
   "cell_type": "code",
   "execution_count": null,
   "id": "317741a3-7587-47e6-a7a6-e7862d56b572",
   "metadata": {},
   "outputs": [
    {
     "data": {
      "text/plain": [
       "|asdf"
      ]
     },
     "execution_count": null,
     "metadata": {},
     "output_type": "execute_result"
    }
   ],
   "source": [
    "Parser(\"asdf\")"
   ]
  },
  {
   "cell_type": "code",
   "execution_count": null,
   "id": "fc34916a",
   "metadata": {},
   "outputs": [],
   "source": [
    "#| export\n",
    "class PRV():\n",
    "    def __init__(self,v='',s=True,e=''):\n",
    "        self.s = s\n",
    "        self.v = v\n",
    "        self.e = e\n",
    "        \n",
    "    def __bool__(self): return self.s\n",
    "    \n",
    "    def __repr__(self): return f\"({self.s},{self.v},{self.e})\"\n",
    "    \n",
    "    def __eq__(self,other): return self.v==other.v and self.s==other.s and self.e==other.e"
   ]
  },
  {
   "cell_type": "code",
   "execution_count": null,
   "id": "43c815cd",
   "metadata": {},
   "outputs": [],
   "source": [
    "#| export\n",
    "def char():\n",
    "    def p(input):\n",
    "        try:\n",
    "            n = input.next()\n",
    "            return PRV(n)\n",
    "        except:\n",
    "            return PRV(s=False,e='end of input')\n",
    "\n",
    "    return p"
   ]
  },
  {
   "cell_type": "code",
   "execution_count": null,
   "id": "4a26e213-bf99-4b70-80cc-3f0f0d3532ab",
   "metadata": {},
   "outputs": [],
   "source": [
    "#| export\n",
    "def nchar(n):\n",
    "    def p(input):\n",
    "        try: return PRV(input.nextn(n))\n",
    "        except: return PRV(s=False,e='end of input')\n",
    "    return p\n",
    "                    "
   ]
  },
  {
   "cell_type": "code",
   "execution_count": null,
   "id": "e38f8083-916f-4d8d-bbb9-a065a0f0a3c6",
   "metadata": {},
   "outputs": [
    {
     "data": {
      "text/plain": [
       "True"
      ]
     },
     "execution_count": null,
     "metadata": {},
     "output_type": "execute_result"
    }
   ],
   "source": [
    "assert nchar(3)(Parser(\"abcdef\")) == PRV(\"abc\")"
   ]
  },
  {
   "cell_type": "code",
   "execution_count": null,
   "id": "83f541dd",
   "metadata": {},
   "outputs": [],
   "source": [
    "assert char()(Parser(\"1\")) == PRV('1')"
   ]
  },
  {
   "cell_type": "code",
   "execution_count": null,
   "id": "ebe135ff",
   "metadata": {},
   "outputs": [],
   "source": [
    "#| export\n",
    "def satisfy(parser, acceptor):\n",
    "    def p(input):\n",
    "        head = input.head\n",
    "        res = parser(input)\n",
    "        if res:\n",
    "            if acceptor(res.v): return res\n",
    "            else: \n",
    "                input.head = head\n",
    "                return PRV(s=False,e='satisfy failed')\n",
    "        else:\n",
    "            return res\n",
    "\n",
    "    return p"
   ]
  },
  {
   "cell_type": "code",
   "execution_count": null,
   "id": "35f89e41",
   "metadata": {},
   "outputs": [],
   "source": [
    "#| export\n",
    "def digit():\n",
    "    return satisfy(char(), lambda x: x in \"0123456789\")\n",
    "\n",
    "\n",
    "def ascii_letter():\n",
    "    return satisfy(\n",
    "        char(), lambda x: x in \"abcdefghijklmnopqrstuvwxyzABCDEFGHIJKLMNOPQRSTUVWXYZ\"\n",
    "    )"
   ]
  },
  {
   "cell_type": "code",
   "execution_count": null,
   "id": "4ebdf565",
   "metadata": {},
   "outputs": [],
   "source": [
    "assert digit()(Parser(\"1\")) == PRV('1')\n",
    "assert digit()(Parser(\"a\")) == PRV(s=False,e='satisfy failed')"
   ]
  },
  {
   "cell_type": "code",
   "execution_count": null,
   "id": "77782fb7",
   "metadata": {},
   "outputs": [],
   "source": [
    "assert ascii_letter()(Parser(\"1\")) == PRV(s=False,e='satisfy failed')\n",
    "assert ascii_letter()(Parser(\"a\")) == PRV('a')"
   ]
  },
  {
   "cell_type": "code",
   "execution_count": null,
   "id": "ef42ab94",
   "metadata": {},
   "outputs": [],
   "source": [
    "#| export\n",
    "def many(parser):\n",
    "    def p(input):\n",
    "        acc = []\n",
    "        head = input.head\n",
    "        while res := parser(input):\n",
    "            head = input.head\n",
    "            acc.append(res.v)\n",
    "        input.head=head\n",
    "        return PRV(acc)\n",
    "\n",
    "    return p"
   ]
  },
  {
   "cell_type": "code",
   "execution_count": null,
   "id": "30feefee",
   "metadata": {},
   "outputs": [],
   "source": [
    "assert many(digit())(Parser(\"123abc\")) == PRV(['1','2','3'])\n",
    "assert many(digit())(Parser(\"abc\")) == PRV([])"
   ]
  },
  {
   "cell_type": "code",
   "execution_count": null,
   "id": "7a8cb010",
   "metadata": {},
   "outputs": [],
   "source": [
    "#| export\n",
    "def sequence(parsers):\n",
    "    def p(input):\n",
    "        head =input.head\n",
    "        acc = []\n",
    "        for parser in parsers:\n",
    "            res = parser(input)\n",
    "            if res: acc.append(res.v)\n",
    "            else: \n",
    "                input.head=head\n",
    "                return PRV(s=False,e=f\"sequence failed\")\n",
    "            \n",
    "        return PRV([x for x in acc if x])\n",
    "    \n",
    "    return p"
   ]
  },
  {
   "cell_type": "code",
   "execution_count": null,
   "id": "8a66746f",
   "metadata": {},
   "outputs": [],
   "source": [
    "assert sequence([digit(),digit(),digit()])(Parser(\"123\")) == PRV(['1','2','3'])\n",
    "assert sequence([digit(),ascii_letter(),digit()])(Parser(\"1a3\")) == PRV(['1','a','3'])"
   ]
  },
  {
   "cell_type": "code",
   "execution_count": null,
   "id": "ff4c95e8",
   "metadata": {},
   "outputs": [],
   "source": [
    "#| export\n",
    "def mapper(parser, funcs):\n",
    "    def p(input):\n",
    "        res = parser(input)\n",
    "        if res:\n",
    "            for f in funcs:\n",
    "                res.v = f(res.v)\n",
    "        return res\n",
    "\n",
    "    return p"
   ]
  },
  {
   "cell_type": "code",
   "execution_count": null,
   "id": "02b65b96",
   "metadata": {},
   "outputs": [],
   "source": [
    "#| export\n",
    "def accumulator(parser, acc):\n",
    "    def p(input):\n",
    "        while True:\n",
    "            h = input.head\n",
    "            r = parser(input)\n",
    "            if r: acc.add(r.v)\n",
    "            else:\n",
    "                input.head = h\n",
    "                break\n",
    "        return PRV(acc)\n",
    "    return p"
   ]
  },
  {
   "cell_type": "code",
   "execution_count": null,
   "id": "0c837e00",
   "metadata": {},
   "outputs": [],
   "source": [
    "#| export\n",
    "def digits():\n",
    "    def helper(x):\n",
    "        if len(x) == 1:\n",
    "            return x[0]\n",
    "        else:\n",
    "            return ''.join([x[0]]+x[1])\n",
    "    return mapper(sequence([digit(), many(digit())]), \n",
    "                  [helper])"
   ]
  },
  {
   "cell_type": "code",
   "execution_count": null,
   "id": "dff1522e",
   "metadata": {},
   "outputs": [],
   "source": [
    "assert digits()(Parser(\"1\")) == PRV('1')\n",
    "assert digits()(Parser(\"123\")) == PRV('123')\n",
    "assert digits()(Parser(\"abc\")) == PRV(s=False,e='sequence failed')"
   ]
  },
  {
   "cell_type": "code",
   "execution_count": null,
   "id": "72797406",
   "metadata": {},
   "outputs": [],
   "source": [
    "#| export\n",
    "def integer():\n",
    "    return mapper(digits(), [lambda x: int(x)])"
   ]
  },
  {
   "cell_type": "code",
   "execution_count": null,
   "id": "afb47218",
   "metadata": {},
   "outputs": [],
   "source": [
    "assert integer()(Parser(\"123\")) == PRV(123)"
   ]
  },
  {
   "cell_type": "code",
   "execution_count": null,
   "id": "5bc68e23",
   "metadata": {},
   "outputs": [],
   "source": [
    "#| export\n",
    "def ws():\n",
    "    return many(satisfy(char(), lambda x: x[0] in \" \\t\"))\n",
    "\n",
    "def ws_():\n",
    "    def p(input):\n",
    "        res = ws()(input)\n",
    "        res.v = []\n",
    "        return res\n",
    "    return p\n",
    "    "
   ]
  },
  {
   "cell_type": "code",
   "execution_count": null,
   "id": "e0860c2a-8e4c-4b08-9b75-c85dbe3e0574",
   "metadata": {},
   "outputs": [],
   "source": [
    "#| export\n",
    "def choice(parsers):\n",
    "    def p(input):\n",
    "        for parser in parsers:\n",
    "            h=input.head\n",
    "            r = parser(input)\n",
    "            if r:\n",
    "                return r\n",
    "        return PRV(s=False,e=\"choice failed\")\n",
    "    return p"
   ]
  },
  {
   "cell_type": "code",
   "execution_count": null,
   "id": "e6459bfd-3f15-460f-909c-0d656c986840",
   "metadata": {},
   "outputs": [],
   "source": [
    "assert choice([digit(),ascii_letter()])(Parser(\"1\")) == PRV(\"1\")"
   ]
  },
  {
   "cell_type": "code",
   "execution_count": null,
   "id": "d11847cf-6c15-46f6-95e5-e98f81246113",
   "metadata": {},
   "outputs": [],
   "source": [
    "assert choice([digit(),ascii_letter()])(Parser(\"a\")) == PRV(\"a\")"
   ]
  },
  {
   "cell_type": "code",
   "execution_count": null,
   "id": "dfa5ad02",
   "metadata": {},
   "outputs": [],
   "source": [
    "#| export\n",
    "def nl():\n",
    "    return satisfy(char(), lambda x: x == \"\\n\")\n",
    "\n",
    "def nl_():\n",
    "    def p(input):\n",
    "        res = nl()(input)\n",
    "        res.v = []\n",
    "        return res\n",
    "    return p\n"
   ]
  },
  {
   "cell_type": "code",
   "execution_count": null,
   "id": "cb3b3475-5779-467a-b943-9cc7604e297c",
   "metadata": {},
   "outputs": [],
   "source": [
    "#| export\n",
    "def find(parser):\n",
    "    def p(input):\n",
    "        while input.head <= len(input):\n",
    "            r = parser(input)\n",
    "            if r: return r\n",
    "            input.step()\n",
    "        return PRV(s=False,e=\"find failed\")\n",
    "    return p"
   ]
  },
  {
   "cell_type": "code",
   "execution_count": null,
   "id": "c2ff2f6c-018d-4df0-be40-8277588eda92",
   "metadata": {},
   "outputs": [],
   "source": [
    "assert find(digit())(Parser(\"asdcc1\")) == PRV(\"1\")"
   ]
  },
  {
   "cell_type": "code",
   "execution_count": null,
   "id": "fe7bc644-f540-421e-926e-f91c293bf3cd",
   "metadata": {},
   "outputs": [],
   "source": [
    "#| export\n",
    "\n",
    "def drop(parser): \n",
    "    def p(input):\n",
    "        r = parser(input)\n",
    "        if r: return PRV('')\n",
    "        else: return r\n",
    "    return p"
   ]
  },
  {
   "cell_type": "code",
   "execution_count": null,
   "id": "c2acf43b-59dc-4a77-bb64-cf26bbe71b6a",
   "metadata": {},
   "outputs": [],
   "source": [
    "#| hide\n",
    "import nbdev; nbdev.nbdev_export()"
   ]
  },
  {
   "cell_type": "code",
   "execution_count": null,
   "id": "8d792d43-491e-4582-ad1e-26a20db43f38",
   "metadata": {},
   "outputs": [],
   "source": []
  },
  {
   "cell_type": "code",
   "execution_count": null,
   "id": "c68fd4b3-d6c8-4d34-99ad-ea5f06bcd97a",
   "metadata": {},
   "outputs": [],
   "source": []
  }
 ],
 "metadata": {
  "kernelspec": {
   "display_name": "python3",
   "language": "python",
   "name": "python3"
  }
 },
 "nbformat": 4,
 "nbformat_minor": 5
}
