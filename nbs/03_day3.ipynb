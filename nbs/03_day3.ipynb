{
 "cells": [
  {
   "cell_type": "code",
   "execution_count": null,
   "id": "18d439fe-db13-4174-8572-5dde3cd38b9f",
   "metadata": {},
   "outputs": [
    {
     "name": "stdout",
     "output_type": "stream",
     "text": [
      "The autoreload extension is already loaded. To reload it, use:\n",
      "  %reload_ext autoreload\n"
     ]
    }
   ],
   "source": [
    "%load_ext autoreload\n",
    "%autoreload 2"
   ]
  },
  {
   "cell_type": "code",
   "execution_count": null,
   "id": "6acce5ba-b4dd-41db-81fb-c7fc2588677e",
   "metadata": {},
   "outputs": [],
   "source": [
    "from aoc2024.core import *"
   ]
  },
  {
   "cell_type": "code",
   "execution_count": null,
   "id": "b97a8925-b453-499f-9717-ea3aca229622",
   "metadata": {},
   "outputs": [],
   "source": [
    "with open(\"../data/d3.txt\", \"r\") as f:\n",
    "    inp = f.read()\n",
    "\n",
    "data = Parser(inp)"
   ]
  },
  {
   "cell_type": "code",
   "execution_count": null,
   "id": "e51e75dd-afe1-4a6e-a14e-9b2c9f88ca3b",
   "metadata": {},
   "outputs": [],
   "source": [
    "def d3(): return mapper(choice([\n",
    "    sequence([digit(),digit(),digit()]),\n",
    "    sequence([digit(),digit()]),\n",
    "    sequence([digit()])]),[lambda x: int(\"\".join(x))])"
   ]
  },
  {
   "cell_type": "code",
   "execution_count": null,
   "id": "c2f7e229-a93b-4ccd-a624-fefc98cedcbd",
   "metadata": {},
   "outputs": [],
   "source": [
    "def mul(): return sequence([\n",
    "    drop(satisfy(nchar(4),lambda x: x==\"mul(\")),\n",
    "    d3(),\n",
    "    drop(satisfy(char(),lambda x: x==\",\")),\n",
    "    d3(),\n",
    "    drop(satisfy(char(),lambda x: x==\")\"))\n",
    "    ])"
   ]
  },
  {
   "cell_type": "code",
   "execution_count": null,
   "id": "d156ee61-569c-426d-8e43-f96c7716996f",
   "metadata": {},
   "outputs": [
    {
     "data": {
      "text/plain": [
       "(True,[32, 4],)"
      ]
     },
     "execution_count": null,
     "metadata": {},
     "output_type": "execute_result"
    }
   ],
   "source": [
    "mul()(Parser('mul(32,4)'))"
   ]
  },
  {
   "cell_type": "code",
   "execution_count": null,
   "id": "72af967f-737e-4d48-8f4d-249117009c09",
   "metadata": {},
   "outputs": [
    {
     "data": {
      "text/plain": [
       "(True,mul,)"
      ]
     },
     "execution_count": null,
     "metadata": {},
     "output_type": "execute_result"
    }
   ],
   "source": [
    "satisfy(nchar(3),lambda x: x==\"mul\")(Parser(\"multiple\"))"
   ]
  },
  {
   "cell_type": "code",
   "execution_count": null,
   "id": "0bed226c-ceee-40fa-9b3a-d7bfc8ae8cef",
   "metadata": {},
   "outputs": [
    {
     "data": {
      "text/plain": [
       "171183089"
      ]
     },
     "execution_count": null,
     "metadata": {},
     "output_type": "execute_result"
    }
   ],
   "source": [
    "data.r()\n",
    "r = many(find(mul()))(data)\n",
    "sum(map(lambda x: x[0]*x[1],r.v))"
   ]
  },
  {
   "cell_type": "code",
   "execution_count": null,
   "id": "131f4504-c998-4ea8-9ad5-8e65114db6a0",
   "metadata": {},
   "outputs": [],
   "source": [
    "def tok_do(): return mapper(satisfy(nchar(4),lambda x: x == \"do()\"),[lambda x: Do()])\n",
    "def tok_dont(): return mapper(satisfy(nchar(7), lambda x: x == \"don't()\"),[lambda x: Dont()])\n",
    "def tok_mul(): return mapper(mul(),[lambda x: Mul(x[0],x[1])])"
   ]
  },
  {
   "cell_type": "code",
   "execution_count": null,
   "id": "a8fb2484-1afe-4abb-b8ed-5b3ef08c4a92",
   "metadata": {},
   "outputs": [],
   "source": [
    "class d3_acc():\n",
    "    def __init__(self):\n",
    "        self.enabled=True\n",
    "        self.v = 0\n",
    "\n",
    "    def add(self,token): token.update(self)\n",
    "\n",
    "class Do(): \n",
    "    def update(self,acc): acc.enabled=True\n",
    "    def __repr__(self): return \"DO\"\n",
    "\n",
    "class Dont():\n",
    "    def update(self,acc): acc.enabled=False\n",
    "    def __repr__(self): return \"DONT\"\n",
    "\n",
    "class Mul:\n",
    "    def __init__(self,x,y):\n",
    "        self.v = x * y\n",
    "\n",
    "    def update(self,acc):\n",
    "        if acc.enabled: acc.v += self.v\n",
    "\n",
    "    def __repr__(self): return f\"MUL({self.v})\""
   ]
  },
  {
   "cell_type": "code",
   "execution_count": null,
   "id": "cb297433-79f4-475f-8cfd-e85d1b643202",
   "metadata": {},
   "outputs": [],
   "source": [
    "def token(): return choice([tok_dont(),tok_do(),tok_mul()])"
   ]
  },
  {
   "cell_type": "code",
   "execution_count": null,
   "id": "ff80c8b4-ee3b-45a5-bf79-f125574f480e",
   "metadata": {},
   "outputs": [
    {
     "data": {
      "text/plain": [
       "(True,[DO, DONT, MUL(1904)],)"
      ]
     },
     "execution_count": null,
     "metadata": {},
     "output_type": "execute_result"
    }
   ],
   "source": [
    "many(find(token()))(Parser(\"do()don't()mul(34,56)\"))"
   ]
  },
  {
   "cell_type": "code",
   "execution_count": null,
   "id": "2f2b3613-f12e-4031-b321-6e541d01a91d",
   "metadata": {},
   "outputs": [
    {
     "data": {
      "text/plain": [
       "(True,63866497,)"
      ]
     },
     "execution_count": null,
     "metadata": {},
     "output_type": "execute_result"
    }
   ],
   "source": [
    "data.r()\n",
    "mapper(accumulator(find(token()),d3_acc()),[lambda x: x.v])(data)"
   ]
  },
  {
   "cell_type": "code",
   "execution_count": null,
   "id": "3e8bbd12-7071-40c0-810c-2eeda06d18b0",
   "metadata": {},
   "outputs": [],
   "source": []
  }
 ],
 "metadata": {
  "kernelspec": {
   "display_name": "python3",
   "language": "python",
   "name": "python3"
  }
 },
 "nbformat": 4,
 "nbformat_minor": 5
}
