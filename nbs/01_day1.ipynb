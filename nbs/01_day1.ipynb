{
 "cells": [
  {
   "cell_type": "code",
   "execution_count": null,
   "id": "843e82dc-09b6-4e82-9c52-225659844991",
   "metadata": {},
   "outputs": [
    {
     "name": "stdout",
     "output_type": "stream",
     "text": [
      "The autoreload extension is already loaded. To reload it, use:\n",
      "  %reload_ext autoreload\n"
     ]
    }
   ],
   "source": [
    "%load_ext autoreload\n",
    "%autoreload 2"
   ]
  },
  {
   "cell_type": "code",
   "execution_count": null,
   "id": "97a68e0c-eb83-4bc0-8829-4f4fc627d6cd",
   "metadata": {},
   "outputs": [],
   "source": [
    "from aoc2024.core import *"
   ]
  },
  {
   "cell_type": "code",
   "execution_count": null,
   "id": "30a1b496-5d23-47d6-b2e4-2d0a952994a0",
   "metadata": {},
   "outputs": [],
   "source": [
    "with open('../data/d1.txt','r') as f:\n",
    "    raw = f.read()\n",
    "\n",
    "p = Parser(raw)"
   ]
  },
  {
   "cell_type": "code",
   "execution_count": null,
   "id": "e75a51ad-b328-4130-a7e7-9f71e8718f7d",
   "metadata": {},
   "outputs": [],
   "source": [
    "class part1_acc():\n",
    "    def __init__(self):\n",
    "        self.l,self.r = [],[]\n",
    "\n",
    "    def add(self,row):\n",
    "        self.l.append(row[0])\n",
    "        self.r.append(row[1])\n",
    "\n",
    "    def __iter__(self):\n",
    "        self.l.sort()\n",
    "        self.r.sort()\n",
    "        for idx,lx in enumerate(self.l):\n",
    "            yield abs(lx-self.r[idx])"
   ]
  },
  {
   "cell_type": "code",
   "execution_count": null,
   "id": "66503b43-6111-412e-bae5-ee9d72ab490f",
   "metadata": {},
   "outputs": [],
   "source": [
    "def line(): return sequence([integer(),ws_(),integer(),nl_()])"
   ]
  },
  {
   "cell_type": "code",
   "execution_count": null,
   "id": "f7868e90-1a5e-4972-b18d-d56122d680bd",
   "metadata": {},
   "outputs": [
    {
     "data": {
      "text/plain": [
       "2769675"
      ]
     },
     "execution_count": null,
     "metadata": {},
     "output_type": "execute_result"
    }
   ],
   "source": [
    "p.r()\n",
    "acc = part1_acc()\n",
    "accumulator(line(),acc)(p)\n",
    "acc.l.sort()\n",
    "acc.r.sort()\n",
    "res = 0\n",
    "for lx,rx in iter(acc):\n",
    "    res += abs(lx-rx)\n",
    "res"
   ]
  },
  {
   "cell_type": "code",
   "execution_count": null,
   "id": "4791b553-7674-429f-9ce7-e07cdedcb0ef",
   "metadata": {},
   "outputs": [
    {
     "data": {
      "text/plain": [
       "(True,2769675,)"
      ]
     },
     "execution_count": null,
     "metadata": {},
     "output_type": "execute_result"
    }
   ],
   "source": [
    "p.r()\n",
    "acc = part1_acc()\n",
    "mapper(\n",
    "    accumulator(line(),acc),\n",
    "    [lambda x: sum(iter(acc),0)])(p)\n"
   ]
  },
  {
   "cell_type": "code",
   "execution_count": null,
   "id": "936d6b38-8301-4601-acda-13b052614a11",
   "metadata": {},
   "outputs": [],
   "source": [
    "class part2_acc():\n",
    "    def __init__(self):\n",
    "        self.l = []\n",
    "        self.r = {}\n",
    "\n",
    "    def add(self,row):\n",
    "        self.l.append(row[0])\n",
    "        self.r[row[1]] = self.r.get(row[1],0) + 1\n",
    "\n",
    "    def __iter__(self):\n",
    "        for idx,lx in enumerate(self.l):\n",
    "            yield lx*self.r.get(lx,0)"
   ]
  },
  {
   "cell_type": "code",
   "execution_count": null,
   "id": "5a092ebd-724f-49d7-97a6-9c5084ac0e4c",
   "metadata": {},
   "outputs": [
    {
     "data": {
      "text/plain": [
       "(True,24643097,)"
      ]
     },
     "execution_count": null,
     "metadata": {},
     "output_type": "execute_result"
    }
   ],
   "source": [
    "p.r()\n",
    "acc2 = part2_acc()\n",
    "mapper(\n",
    "    accumulator(line(),acc2),\n",
    "    [lambda x: sum(iter(acc2),0)])(p)\n"
   ]
  },
  {
   "cell_type": "code",
   "execution_count": null,
   "id": "3d9b9f36-a67e-4a8f-9c6d-9c436254dbb0",
   "metadata": {},
   "outputs": [],
   "source": []
  }
 ],
 "metadata": {
  "kernelspec": {
   "display_name": "python3",
   "language": "python",
   "name": "python3"
  }
 },
 "nbformat": 4,
 "nbformat_minor": 5
}
